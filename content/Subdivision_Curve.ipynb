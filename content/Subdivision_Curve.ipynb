{
  "metadata": {
    "kernelspec": {
      "name": "python",
      "display_name": "Python (Pyodide)",
      "language": "python"
    },
    "language_info": {
      "codemirror_mode": {
        "name": "python",
        "version": 3
      },
      "file_extension": ".py",
      "mimetype": "text/x-python",
      "name": "python",
      "nbconvert_exporter": "python",
      "pygments_lexer": "ipython3",
      "version": "3.8"
    }
  },
  "nbformat_minor": 5,
  "nbformat": 4,
  "cells": [
    {
      "id": "b56ad52f-aaa9-49bd-a8ff-e96c0ed18b94",
      "cell_type": "markdown",
      "source": "### 📝 **Übung: Chaikin-Unterteilungskurve implementieren**\n\nIn dieser Übung implementieren Sie den Algorithmus von **Chaikin** zur Unterteilung einer Kurve. Ziel ist es, aus wenigen Kontrollpunkten eine glatte Kurve durch iterative Unterteilung zu erzeugen.\n\nVervollständigen Sie die Funktion `chaikin_subdivision` gemäß den angegebenen Schritten und Hinweisen. Nutzen Sie anschließend den interaktiven Schieberegler, um zu überprüfen, ob Ihre Implementierung korrekt ist.\n\n**Überprüfungspunkte:**  \n- Wird die Kurve bei jeder Iteration glatter?  \n- Werden die neuen Punkte korrekt berechnet?\n\nVergleichen Sie Ihre Ergebnisse gerne mit denen Ihrer Kommiliton:innen und diskutieren Sie gemeinsam Ihre Lösungen!\n",
      "metadata": {}
    },
    {
      "id": "70e54c34-ca0d-45f8-8efa-6249ca6b9110",
      "cell_type": "code",
      "source": "import micropip\nawait micropip.install('ipywidgets')",
      "metadata": {
        "trusted": true
      },
      "outputs": [],
      "execution_count": 2
    },
    {
      "id": "6ef2051f-0d3a-4080-9eac-7c86f0c87052",
      "cell_type": "code",
      "source": "import numpy as np\nimport matplotlib.pyplot as plt\nfrom ipywidgets import interact, IntSlider\n",
      "metadata": {
        "trusted": true
      },
      "outputs": [],
      "execution_count": 3
    },
    {
      "id": "67cddd82-b87f-489c-83fa-b2e8236c6625",
      "cell_type": "code",
      "source": "def initial_curve():\n    return np.array([\n        [0, 0],\n        [1, 2],\n        [3, 3],\n        [4, 1],\n        [5, 2]\n    ])\n",
      "metadata": {
        "trusted": true
      },
      "outputs": [],
      "execution_count": 4
    },
    {
      "id": "7de8d183-12bb-43e2-a7dc-9af418e96c16",
      "cell_type": "code",
      "source": "def chaikin_subdivision(points, iterations=1):\n    # TODO: Implementieren Sie hier den Algorithmus von Chaikin zur Kurvenunterteilung.\n    #\n    # Schritte zur Umsetzung:\n    # 1. Wiederholen Sie die Unterteilung entsprechend der Anzahl 'iterations'.\n    # 2. Berechnen Sie für jedes benachbarte Punktepaar (p0 und p1) zwei neue Punkte (Q und R):\n    #    - Punkt Q liegt bei 75 % auf der Strecke von p0 nach p1.\n    #    - Punkt R liegt bei 25 % auf der Strecke von p0 nach p1.\n    # 3. Sammeln Sie die neuen Punkte und bilden Sie daraus die verfeinerte Kurve.\n    #\n    # Hinweis zur Berechnung:\n    # Für Punkte p0 und p1 gilt:\n    #   Q = 0.75*p0 + 0.25*p1\n    #   R = 0.25*p0 + 0.75*p1\n    \n    # Ersetzen Sie die folgende Zeile durch Ihre Implementierung!\n    subdivided_points = points.copy()\n    \n    return subdivided_points\n\n",
      "metadata": {
        "trusted": true
      },
      "outputs": [],
      "execution_count": 5
    },
    {
      "id": "91dd99ec-2f54-459d-b4c5-6c43b3c71b81",
      "cell_type": "code",
      "source": "def plot_curve(iterations):\n    points = initial_curve()\n    subdivided = chaikin_subdivision(points, iterations)\n    \n    plt.figure(figsize=(7, 5))\n    plt.plot(points[:,0], points[:,1], 'o--', label='Control Points', color='gray')\n    plt.plot(subdivided[:,0], subdivided[:,1], 'o-', label=f'Subdivided Curve (iterations={iterations})', color='blue')\n    \n    plt.axis('equal')\n    plt.legend()\n    plt.grid(True)\n    plt.title(\"Chaikin's Subdivision Curve\")\n    plt.show()\n",
      "metadata": {
        "trusted": true
      },
      "outputs": [],
      "execution_count": 6
    },
    {
      "id": "7102b8ce-d959-42b4-8838-13dda1db7b71",
      "cell_type": "code",
      "source": "interact(plot_curve, iterations=IntSlider(min=0, max=5, step=1, value=0))",
      "metadata": {
        "trusted": true
      },
      "outputs": [
        {
          "output_type": "display_data",
          "data": {
            "text/plain": "interactive(children=(IntSlider(value=0, description='iterations', max=5), Output()), _dom_classes=('widget-in…",
            "application/vnd.jupyter.widget-view+json": {
              "version_major": 2,
              "version_minor": 0,
              "model_id": "aebe98822631418194070d5d8cd537d1"
            }
          },
          "metadata": {}
        },
        {
          "execution_count": 7,
          "output_type": "execute_result",
          "data": {
            "text/plain": "<function __main__.plot_curve(iterations)>"
          },
          "metadata": {}
        }
      ],
      "execution_count": 7
    },
    {
      "id": "670d5d62-b7b1-40ec-9ec9-b0702a183ce5",
      "cell_type": "code",
      "source": "",
      "metadata": {
        "trusted": true
      },
      "outputs": [],
      "execution_count": null
    }
  ]
}