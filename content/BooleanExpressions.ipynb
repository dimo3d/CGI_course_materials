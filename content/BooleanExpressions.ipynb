{
  "metadata": {
    "language_info": {
      "codemirror_mode": {
        "name": "python",
        "version": 3
      },
      "file_extension": ".py",
      "mimetype": "text/x-python",
      "name": "python",
      "nbconvert_exporter": "python",
      "pygments_lexer": "ipython3",
      "version": "3.8"
    },
    "kernelspec": {
      "name": "python",
      "display_name": "Python (Pyodide)",
      "language": "python"
    }
  },
  "nbformat_minor": 4,
  "nbformat": 4,
  "cells": [
    {
      "cell_type": "markdown",
      "source": "## Einführung in die Optimierung von Booleschen Ausdrücken mit Sympy\n\nLiebe Studierende,\n\nIn dieser Übung werden wir uns mit der Bibliothek sympy vertraut machen, einem mächtigen Werkzeug für symbolische Mathematik in Python. Insbesondere werden wir uns darauf konzentrieren, wie man mit sympy boolesche Ausdrücke optimieren kann.\n\nEin boolescher Ausdruck ist eine Formel aus booleschen Variablen und Operationen, die nur die Werte wahr oder falsch annehmen kann. Solche Ausdrücke sind in der Informatik, Elektrotechnik und vielen anderen Bereichen von zentraler Bedeutung. Die Optimierung dieser Ausdrücke kann dazu beitragen, Ressourcen zu sparen und die Effizienz von Algorithmen und Systemen zu erhöhen.\n\nIm folgenden Code werden wir:\n\nBoolesche Variablen in sympy definieren.\nEinen booleschen Ausdruck erstellen und anzeigen.\nDen Ausdruck mit sympy vereinfachen und die optimierte Form anzeigen.\nFühren Sie den Code aus und beobachten Sie, wie sympy die booleschen Ausdrücke optimiert. Experimentieren Sie gerne mit verschiedenen Ausdrücken und beobachten Sie die Ergebnisse.\n\nViel Spaß beim Lernen und Experimentieren!",
      "metadata": {}
    },
    {
      "cell_type": "code",
      "source": "import sympy\n\n# Define boolean variables\nA, B, C, D = sympy.symbols('A B C D', bool=True)\n\n# Define a boolean expression\nexpr = (A & B) | (~A & B) | (A & C)\n\n# Print the original expression\nprint(\"Original Expression:\")\nprint(expr)\n\n# Simplify the expression\nsimplified_expr = sympy.simplify_logic(expr)\n\n# Print the simplified expression\nprint(\"\\nSimplified Expression:\")\nprint(simplified_expr)\n\n# More complex expression\ncomplex_expr = (A & B) | (A & ~B & C) | (A & ~B & ~C & D) | (~A & B) | (~A & ~B & C)\n\n# Print the complex expression\nprint(\"\\nComplex Expression:\")\nprint(complex_expr)\n\n# Simplify the complex expression\nsimplified_complex_expr = sympy.simplify_logic(complex_expr)\n\n# Print the simplified complex expression\nprint(\"\\nSimplified Complex Expression:\")\nprint(simplified_complex_expr)\n",
      "metadata": {
        "trusted": true
      },
      "execution_count": 1,
      "outputs": [
        {
          "name": "stdout",
          "text": "Original Expression:\n(A & B) | (A & C) | (B & ~A)\n\nSimplified Expression:\nB | (A & C)\n\nComplex Expression:\n(A & B) | (B & ~A) | (A & C & ~B) | (C & ~A & ~B) | (A & D & ~B & ~C)\n\nSimplified Complex Expression:\nB | C | (A & D)\n",
          "output_type": "stream"
        }
      ]
    },
    {
      "cell_type": "code",
      "source": "",
      "metadata": {},
      "execution_count": null,
      "outputs": []
    }
  ]
}