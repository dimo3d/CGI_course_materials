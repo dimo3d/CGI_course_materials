{
  "metadata": {
    "kernelspec": {
      "name": "python",
      "display_name": "Python (Pyodide)",
      "language": "python"
    },
    "language_info": {
      "codemirror_mode": {
        "name": "python",
        "version": 3
      },
      "file_extension": ".py",
      "mimetype": "text/x-python",
      "name": "python",
      "nbconvert_exporter": "python",
      "pygments_lexer": "ipython3",
      "version": "3.8"
    }
  },
  "nbformat_minor": 4,
  "nbformat": 4,
  "cells": [
    {
      "cell_type": "markdown",
      "source": "## Bezierkurven: Eine grafische Einführung\n\nIn diesem Notizbuch tauchen wir in die faszinierende Welt der Bezierkurven ein. Bezierkurven sind ein grundlegendes Werkzeug in Computergrafik, CAD-Systemen und im Design, da sie es ermöglichen, glatte Kurven mithilfe einer begrenzten Anzahl von Steuerpunkten zu beschreiben.\n\n### Hintergrund\n\nBenoît Bézier, ein Ingenieur bei Renault, popularisierte diese Kurven in den 1960er Jahren, obwohl sie bereits vorher von Paul de Casteljau entwickelt wurden. Das Hauptmerkmal von Bezierkurven ist, dass sie immer innerhalb der konvexen Hülle ihrer Steuerpunkte liegen. Dies macht sie besonders geeignet für Design- und Animationsanwendungen, da sie einfach zu steuern sind und vorhersehbare Ergebnisse liefern.\n\n### Ziele\n\n1. **Definition von Bezierkurven:** Wir stellen die mathematische Grundlage von Bezierkurven vor und erklären, wie sie aus Steuerpunkten generiert werden.\n2. **Visualisierung:** Mithilfe von Python und Matplotlib werden wir Bezierkurven für verschiedene Steuerpunkte zeichnen und visualisieren.\n3. **Von Bezier zu B-Splines:** Wir erweitern unser Wissen und führen B-Splines ein, die eine Erweiterung von Bezierkurven sind und noch mehr Flexibilität in der Kurvengestaltung bieten.\n4. **Lineare Interpolation:** Als Vergleich zeigen wir auch, wie eine einfache lineare Interpolation zwischen zwei Punkten aussieht.\n\n### Übersicht über das Beispiel\n\n- **Bezierkurven-Definition:** Anhand von gegebenen Steuerpunkten berechnen und visualisieren wir eine Bezierkurve.\n- **B-Splines:** Wir führen die B-Spline-Kurve ein und zeigen, wie sie sich im Vergleich zu Bezierkurven verhält.\n- **Lineare Interpolation:** Ein einfacher linearer Pfad zwischen dem Start- und Endpunkt wird als Referenz gezeichnet.\n\nAm Ende dieses Notizbuchs werden Sie ein tieferes Verständnis für Bezierkurven und B-Splines haben und ihre praktische Anwendung in grafischen und Designkontexten besser schätzen.\n\nZunächst die Lineare Interpolation:",
      "metadata": {}
    },
    {
      "cell_type": "code",
      "source": "import numpy as np\nimport matplotlib.pyplot as plt",
      "metadata": {
        "trusted": true
      },
      "outputs": [],
      "execution_count": null
    },
    {
      "cell_type": "code",
      "source": "import math \n\ndef linear_interpolation(t, P0, P1):\n    \"\"\"Calculate point using linear interpolation.\"\"\"\n    return (1 - t) * P0 + t * P1\n\n# Define control points\nP = [np.array([0, 1]), np.array([1, 2]), np.array([2, -1]), np.array([3, 3]), np.array([4, 5]), np.array([5, 2])]\n\n# Generate curve points\nt_values = np.linspace(0, 1, 100)\nlinear_points = np.array([linear_interpolation(t, P[0], P[-1]) for t in t_values])\n\n# Plot curves and control points\nplt.figure(figsize=(10, 6))\nplt.plot(linear_points[:, 0], linear_points[:, 1], 'b-', label='Linear Interpolation')\nplt.plot([p[0] for p in P], [p[1] for p in P], 'bo', label='Control Points')\nplt.legend()\nplt.grid()\nplt.title('Cubic Bézier vs. B-spline Curves vs. Linear Interpolation')\nplt.show()",
      "metadata": {
        "trusted": true
      },
      "outputs": [],
      "execution_count": null
    },
    {
      "cell_type": "markdown",
      "source": "Jetzt erweitert mit Bezier Kurven:",
      "metadata": {}
    },
    {
      "cell_type": "code",
      "source": "def bezier(t, P0, P1, P2, P3):\n    \"\"\"Calculate point on cubic Bézier curve.\"\"\"\n    return #??? Hier die korrekte Formel für Bezierkurven dritten grades einfügen!\n\n# Generate curve points\n\nbezier_points = np.array([bezier(t, *P[:4]) for t in t_values])\n\n\n# Plot curves and control points\nplt.figure(figsize=(10, 6))\nplt.plot(bezier_points[:, 0], bezier_points[:, 1], 'r-', label='Bézier Curve')\n# plt.plot(linear_points[:, 0], linear_points[:, 1], 'b', label='Linear Interpolation')\nplt.plot([p[0] for p in P], [p[1] for p in P], 'bo', label='Control Points')\nplt.legend()\nplt.grid()\nplt.title('Cubic Bézier vs. B-spline Curves vs. Linear Interpolation')\nplt.show()",
      "metadata": {
        "trusted": true
      },
      "outputs": [],
      "execution_count": null
    },
    {
      "cell_type": "markdown",
      "source": "Schließlich ein Beispiel mit B-Splines",
      "metadata": {}
    },
    {
      "cell_type": "code",
      "source": "import numpy as np\nimport matplotlib.pyplot as plt\nimport math \n\ndef bspline_basis(i, k, t, knots):\n    \"\"\"\n    Compute the B-spline basis function value using Cox-de Boor's algorithm.\n\n    Parameters:\n        i: control point index\n        k: spline degree\n        t: parameter value\n        knots: knot vector\n\n    Returns:\n        B-spline basis value.\n    \"\"\"\n    if k == 0:\n        return 1.0 if knots[i] <= t < knots[i + 1] else 0.0\n    else:\n        coeff1 = (t - knots[i]) / (knots[i + k] - knots[i]) if (knots[i + k] - knots[i]) != 0 else 0\n        coeff2 = (knots[i + k + 1] - t) / (knots[i + k + 1] - knots[i + 1]) if (knots[i + k + 1] - knots[i + 1]) != 0 else 0\n\n        return coeff1 * bspline_basis(i, k - 1, t, knots) + coeff2 * bspline_basis(i + 1, k - 1, t, knots)\n\ndef generate_knot_vector(n, degree, non_uniform=False):\n    \"\"\"Generate a clamped knot vector for B-splines.\"\"\"\n    if non_uniform:\n        knots = np.concatenate(([0]*(degree+1), [2]*(n-degree-1) , [n-degree]*(degree+1))) # example: weight middle point 2 more\n    else:\n        knots = np.concatenate(([0]*(degree), np.arange(n-degree+1), [n-degree]*(degree)))\n        #[0, 0, 0, 0, 1, 2, 3, 3, 3, 3]\n    return knots\n\n\ndef bspline(t, control_points, degree=3, non_uniform=False):\n    \"\"\"\n    Evaluate a B-spline at a parameter t.\n\n    Parameters:\n        t: parameter value\n        control_points: list of control points\n        degree: spline degree\n\n    Returns:\n        Point on the B-spline curve.\n    \"\"\"\n    n = len(control_points)\n    if t <= 0:\n        return control_points[0]\n    if t == 1:\n        return control_points[-1]\n    t = t * (n - degree )\n    t = min(max(t, 0), n - degree)  # Clamp t\n    k = degree\n    knots = generate_knot_vector(n, degree, non_uniform)\n    point = np.zeros(2)\n    for i in range(n):\n        point += np.array(control_points[i]) * bspline_basis(i, k, t, knots)\n    return point\n\ndef nurbs(t, control_points, weights, degree=3):\n    n = len(control_points)\n    if t <= 0:\n        return control_points[0]\n    if t == 1:\n        return control_points[-1]\n    t = t * (n - degree )\n    t = min(max(t, 0), n - degree)  # Clamp t\n    k = degree\n    knots = generate_knot_vector(n, degree)\n    point = np.zeros(2)\n    w = 0\n    for i in range(n):\n        basis = bspline_basis(i, k, t, knots)\n        point += np.array(control_points[i]) * basis * weights[i]\n        w += basis * weights[i]\n    return point / w\n          \n# Define control points\nP = [np.array([0, 1]), np.array([1, 2]), np.array([2, -1]), np.array([3, 3]), np.array([4, 5]), np.array([5, 2])]\nweights = [1,1,3,1,1,1]\n# Generate curve points\nt_values = np.linspace(0, 1, 400)\nbezier_points = np.array([bezier(t, *P[:4]) for t in t_values])\nbspline_points = np.array([bspline(t, P) for t in t_values])\nprint(\"uniform clamped knot vector\", generate_knot_vector(len(P), 3, False))\nbspline_points_non_uniform = np.array([bspline(t, P,degree=3, non_uniform=True) for t in t_values])\nprint(\"non-uniform knot vector\", generate_knot_vector(len(P), 3, True))\nlinear_points = np.array([linear_interpolation(t, P[0], P[-1]) for t in t_values])\nnurbs_points = np.array([nurbs(t, P, weights,degree=3) for t in t_values])\n# Plot curves and control points\nplt.figure(figsize=(10, 6))\nplt.plot(bezier_points[:, 0], bezier_points[:, 1], 'r-', label='Bézier Curve')\nplt.plot(bspline_points[:, 0], bspline_points[:, 1], 'g-', label='B-spline Curve')\nplt.plot(bspline_points_non_uniform[:, 0], bspline_points_non_uniform[:, 1], 'b-', label='B-spline Non-uniform Curve')\nplt.plot(nurbs_points[:, 0], nurbs_points[:, 1], 'y-', label='Nurbs Curve')\nplt.plot([p[0] for p in P], [p[1] for p in P], 'bo', label='Control Points')\nplt.legend()\nplt.grid()\nplt.title('Cubic Bézier vs. B-spline Curves vs. Linear Interpolation')\nplt.show()",
      "metadata": {
        "trusted": true
      },
      "outputs": [],
      "execution_count": null
    },
    {
      "cell_type": "code",
      "source": "",
      "metadata": {
        "trusted": true
      },
      "outputs": [],
      "execution_count": null
    }
  ]
}