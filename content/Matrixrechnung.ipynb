{
  "metadata": {
    "language_info": {
      "codemirror_mode": {
        "name": "python",
        "version": 3
      },
      "file_extension": ".py",
      "mimetype": "text/x-python",
      "name": "python",
      "nbconvert_exporter": "python",
      "pygments_lexer": "ipython3",
      "version": "3.8"
    },
    "kernelspec": {
      "name": "python",
      "display_name": "Python (Pyodide)",
      "language": "python"
    }
  },
  "nbformat_minor": 4,
  "nbformat": 4,
  "cells": [
    {
      "cell_type": "markdown",
      "source": "## Matrix-Operationen für Transformationen\n\nIn diesem Notebook werden wir die Eigenschaften von Transformationsmatrizen, insbesondere im Kontext von 3D-Transformationen mit homogenen Koordinaten, untersuchen. Wir werden demonstrieren, wie man verschiedene Transformationen kombiniert und sie auf Punkte im 3D-Raum anwendet.\n\n### Hintergrund\n\nTransformationsmatrizen sind ein grundlegendes Konzept in der Computergrafik, Robotik und vielen anderen Bereichen. Sie bieten eine prägnante Möglichkeit, Operationen wie Translation, Rotation und Skalierung in einem konsistenten Format darzustellen. In Kombination mit homogenen Koordinaten ermöglichen sie es, dass diese Operationen kombiniert und mit einfacher Matrixmultiplikation angewendet werden können.\n\n### Ziele\n\n1. **Transformationsmatrizen definieren:** Wir beginnen mit der Definition von zwei Transformationsmatrizen, `A` und `B`. Jede Matrix stellt eine spezifische 3D-Operation dar.\n2. **Transformationen kombinieren:** Wir werden die Effekte von `A` und `B` mit zwei Methoden kombinieren:\n   - Direkte Multiplikation der einzelnen Transformationsmatrizen (`T` für Translation und `R` für Rotation).\n   - Verwendung der Inverse einer Matrix, um den kombinierten Effekt zu berechnen.\n3. **Transformationen anwenden:** Wir werden unsere kombinierte Transformation auf einen Punkt im Raum (in diesem Fall den Ursprung) anwenden und die Ergebnisse beobachten.\n\n### Übersicht über das Beispiel\n\n- **Matrixdefinitionen:** Wir beginnen mit der Definition unserer Matrizen. Hier ist `W2` eine Konstante, die uns bei unserer Rotationsmatrix hilft.\n- **Transformationen kombinieren:** Wir zeigen zwei Methoden zur Berechnung der kombinierten Transformation (`TAB`).\n- **Einen Punkt transformieren:** Wir transformieren den Ursprung mit unseren Transformationsmatrizen und vergleichen die Ergebnisse.\n\nAm Ende dieses Notizbuchs sollten Sie ein klareres Verständnis dafür haben, wie Transformationsmatrizen funktionieren, wie sie kombiniert werden können und wie sie sich auf Punkte im Raum auswirken.\n\nWir beginnen mit der Definition der Ausgangsmatrizen:\n",
      "metadata": {}
    },
    {
      "cell_type": "code",
      "source": "import math\nimport numpy as np\nW2 = float(math.sqrt(2)/2)\n\nA = np.array([\n    [W2, -W2, 0, 1],\n    [W2, W2, 0, 1],\n    [0, 0, 1, 0],\n    [0, 0, 0, 1]\n])\nB = np.array([\n    [W2, W2, 0, 3],\n    [-W2, W2, 0, 0],\n    [0, 0, 1, 0],\n    [0, 0, 0, 1]\n])",
      "metadata": {},
      "execution_count": null,
      "outputs": []
    },
    {
      "cell_type": "markdown",
      "source": "Berechnen Sie nun nach der Methode im Skript die Matrix zum Umformen von A nach B. Definieren sie zunächst die Translationsmatrix und Rotationsmatrix (es gibt nur eine) und dann TAB = T @ R.",
      "metadata": {}
    },
    {
      "cell_type": "code",
      "source": "T = np.array([\n    [0, 0, 0, 0],\n    [0, 0, 0, 0],\n    [0, 0, 0, 0],\n    [0, 0, 0, 0]\n])\nR =  np.array([\n    [0, 0, 0, 0],\n    [0, 0, 0, 0],\n    [0, 0, 0, 0],\n    [0, 0, 0, 0]])\n\nTAB =  T @ R\nprint(f\"TAB method 1 \\n {TAB}\")",
      "metadata": {},
      "execution_count": null,
      "outputs": []
    },
    {
      "cell_type": "markdown",
      "source": "Überprüfen Sie am Beispiel eines Punktes, ob dieser durch TAB von A nach B transformiert wird.",
      "metadata": {}
    },
    {
      "cell_type": "code",
      "source": "origin = np.array([0, 0, 0, 1])\n\n# Transform the origin using A\npoint1 = A @ origin\n\n# Transform the result using TAB\npoint2 = TAB @ point1\n\n# Transform the origin using B directly\npoint3 = B @ origin\n\nprint(\"point1:\", point1)\nprint(\"point2:\", point2)\nprint(\"point3:\", point3)",
      "metadata": {},
      "execution_count": null,
      "outputs": []
    },
    {
      "cell_type": "markdown",
      "source": "Nun Stellen Sie die Matrix TAB direkt dar mit dem Wissen, dass mit dem Endkoordinatensystem schon die Zielmatrix gegeben ist und sie suchen eine Matrix TAB, so dass TAB @ A @ Punkt = B @ Punkt.",
      "metadata": {}
    },
    {
      "cell_type": "code",
      "source": "A_inv =  np.linalg.inv(A)\nprint(f\"A inverse {A_inv}\")\nTAB =  0 # Hier die Matrixrechnung rein!\nprint(f\"TAB method 2 \\n {TAB}\")\norigin = np.array([0, 0, 0, 1])\n\n# Transform the origin using A\npoint1 = A @ origin\n\n# Transform the result using TAB\npoint2 = TAB_new @ point1\n\n# Transform the origin using B directly\npoint3 = B @ origin\n\nprint(\"point1:\", point1)\nprint(\"point2:\", point2)\nprint(\"point3:\", point3)",
      "metadata": {},
      "execution_count": null,
      "outputs": []
    }
  ]
}