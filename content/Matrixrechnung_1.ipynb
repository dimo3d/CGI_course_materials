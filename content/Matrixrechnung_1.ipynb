{
  "metadata": {
    "kernelspec": {
      "name": "python",
      "display_name": "Python (Pyodide)",
      "language": "python"
    },
    "language_info": {
      "codemirror_mode": {
        "name": "python",
        "version": 3
      },
      "file_extension": ".py",
      "mimetype": "text/x-python",
      "name": "python",
      "nbconvert_exporter": "python",
      "pygments_lexer": "ipython3",
      "version": "3.8"
    }
  },
  "nbformat_minor": 5,
  "nbformat": 4,
  "cells": [
    {
      "id": "78d253bf",
      "cell_type": "markdown",
      "source": "# Transformationen mit Matrizen\n\n## Einfache Verschiebung im 2D Raum\n$$\n\\begin{equation*}\n\\begin{bmatrix}\na & b & c \\\\\nd & e & f \\\\\ng & h & i\n\\end{bmatrix}\n\\begin{bmatrix}\nx \\\\\ny \\\\\nz\n\\end{bmatrix}\n=\n\\begin{bmatrix}\nax + by + cz \\\\\ndx + ey + fz \\\\\ngx + hy + iz\n\\end{bmatrix}\n\\end{equation*}\n$$\n\nIn diesem Beispiel definieren wir einen 2D-Punkt [3, 1] und wenden eine Translationsmatrix [-2, 0] an, um ihn um 2 Einheiten nach links zu verschieben.\n\nHinweis: Wir verwenden den Matrixmultiplikationsoperator @ von NumPy, um die Transformationsmatrizen auf den Punkt anzuwenden. Außerdem verwenden wir homogene Koordinaten, indem wir eine dritte Dimension zum Punkt mit einem Wert von 1 hinzufügen und eine dritte Zeile zu den Transformationsmatrizen mit Nullen und einer einzelnen 1 in der unteren rechten Ecke hinzufügen. Dadurch können wir alle Transformationen mit einer einzigen Matrixmultiplikation durchführen. Dann plotten wir die Original- und transformierten Punkte mit Matplotlib.\n\nAufgaben:\n1. Ändern Sie die Translationsmatrix so ab, dass sie den Punkt um [-2, 0] verschiebt. Im 2D-Raum haben wir 3x3 Einträge in der Matrix. Der Aufbau ist aber derselbe wie in der 4x4 Matrix. \n2. Was passiert wenn die homogene Koordinate des 2D Punktes Null ist anstatt 1? Was passiert bei anderen Zahlen? Probieren Sie es aus!",
      "metadata": {}
    },
    {
      "id": "057a44bb",
      "cell_type": "code",
      "source": "#%pip install -q ipympl\n#%matplotlib widget\nimport numpy as np\nimport micropip\nawait micropip.install(\"ipywidgets\")\n\n\nimport matplotlib.pyplot as plt\n\n# Define a 2D point with homogeneous coordinates\npoint = np.array([3, 1, 1])\n\n# Translation matrix\ntranslation_matrix = np.array([\n    [1, 0, 0],\n    [0, 1, 0],\n    [0, 0, 1]\n])\n\n# Apply transformation matrices to point\ntransformed_point = translation_matrix @ point\n\n# Plot original and transformed points\nfig, ax = plt.subplots()\nax.plot(point[0], point[1], 'bo', label='Original point')\nax.plot(transformed_point[0], transformed_point[1], 'ro', label='Transformed point')\nax.set_xlim([0, 6])\nax.set_ylim([0, 6])\nax.grid(True)\nax.legend(loc='upper left')\nax.set_aspect('equal')\nplt.show()",
      "metadata": {
        "trusted": true
      },
      "outputs": [],
      "execution_count": null
    },
    {
      "id": "44f483cb",
      "cell_type": "markdown",
      "source": "## Skalierung und Rotation\nJetzt wenden wir eine Skalierungsmatrix mit einem Skalierungsfaktor von 2 an, um die Größe des Objekts zu verdoppeln, und eine Rotationsmatrix mit einem Winkel von np.pi/4 (45 Grad), um den Punkt gegen den Uhrzeigersinn zu drehen. ",
      "metadata": {}
    },
    {
      "id": "33dcd0a1",
      "cell_type": "code",
      "source": "# Scale matrix\nscale_matrix = np.array([\n    [1, 0, 0],\n    [0, 1, 0],\n    [0, 0, 1]\n])\n\n# Rotation matrix\nangle = 0\nrotation_matrix = np.array([\n    [np.cos(angle), -np.sin(angle), 0],\n    [np.sin(angle), np.cos(angle), 0],\n    [0, 0, 1]\n])\ntransformed_point1 = scale_matrix @ transformed_point\ntransformed_point2 = rotation_matrix @ transformed_point1\n\n# Plot original and transformed points\nfig, ax = plt.subplots()\nax.plot(transformed_point[0], transformed_point[1], 'ro', label='Transformed point')\nax.plot(transformed_point1[0], transformed_point1[1], 'go', label='scaled point1')\nax.plot(transformed_point2[0], transformed_point2[1], 'yo', label='rotated point2')\nax.set_xlim([0, 6])\nax.set_ylim([0, 6])\nax.grid(True)\nax.legend(loc='upper left')\nax.set_aspect('equal')\nplt.show()",
      "metadata": {
        "trusted": true
      },
      "outputs": [],
      "execution_count": null
    },
    {
      "id": "a900dc77-9934-4b23-a6c2-8092e96b19cd",
      "cell_type": "markdown",
      "source": "# ",
      "metadata": {}
    }
  ]
}