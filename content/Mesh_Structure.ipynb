{
  "metadata": {
    "kernelspec": {
      "name": "python",
      "display_name": "Python (Pyodide)",
      "language": "python"
    },
    "language_info": {
      "codemirror_mode": {
        "name": "python",
        "version": 3
      },
      "file_extension": ".py",
      "mimetype": "text/x-python",
      "name": "python",
      "nbconvert_exporter": "python",
      "pygments_lexer": "ipython3",
      "version": "3.8"
    }
  },
  "nbformat_minor": 5,
  "nbformat": 4,
  "cells": [
    {
      "id": "7eef9ee6-78df-4f3c-8ae7-cd44453f960a",
      "cell_type": "markdown",
      "source": "# Einführung: Mesh-Datenstrukturen in der Computergrafik\n\nIn diesem Notebook lernst du, wie 3D-Modelle mithilfe sogenannter **Mesh-Datenstrukturen** dargestellt und visualisiert werden. Ein Mesh besteht im Wesentlichen aus:\n\n- **Vertices (Eckpunkten)**: Punkte im 3D-Raum, definiert durch ihre Koordinaten.\n- **Faces (Flächen)**: Flächen, die diese Eckpunkte verbinden und das Oberflächenmodell bilden. Meistens sind Faces als Dreiecke definiert (Triangle-Meshes).\n\nDeine Aufgabe in diesem Notebook ist es, ein einfaches Mesh (z.B. eine quadratische Pyramide) zu erstellen. Dabei wirst du:\n\n- Die Vertex-Koordinaten festlegen,\n- Die Faces mithilfe von Indizes definieren,\n- Das Mesh visualisieren und interaktiv erkunden.\n\n### Ziel der Übung:\n\nAm Ende der Übung hast du ein grundlegendes Verständnis dafür, wie Meshes aufgebaut sind und kannst einfache Mesh-Strukturen eigenständig definieren und visualisieren.\n\n### Vorgehensweise:\n\nFolge den Anweisungen im Notebook Schritt für Schritt, ergänze die fehlenden Faces und experimentiere mit verschiedenen Einstellungen.\n\nViel Spaß beim Erkunden der Computergrafik!\n\n",
      "metadata": {}
    },
    {
      "id": "a881383c-d535-47da-a010-d1c7548d4f62",
      "cell_type": "code",
      "source": "import micropip\nawait micropip.install('pythreejs')\n",
      "metadata": {
        "trusted": true
      },
      "outputs": [],
      "execution_count": null
    },
    {
      "id": "fd116a9d-2703-4f1a-a9ef-07902849c031",
      "cell_type": "code",
      "source": "from pythreejs import *\nimport numpy as np\nfrom IPython.display import display\n\n# Vertices and Faces (Simple Cube Mesh)\n# Hier sind jetzt die Eckpunkte aufgelistet für einen einfachen Cube\nvertices = np.array([\n    [-1, -1,  1],\n    [ 1, -1,  1],\n    [ 1,  1,  1],\n    [-1,  1,  1],\n    [-1, -1, -1],\n    [ 1, -1, -1],\n    [ 1,  1, -1],\n    [-1,  1, -1],\n], dtype='float32')\n\n# Hier müssen jetzt die einzelnen Triangles aufgelistet werden um die Box aufzubauen\n# Das erste Triangle ist schon angelegt. Pro Seite braucht man zwei Triangles.\nfaces = np.array([\n    [0, 1, 2] # ,...,  # Front face\n    #[...], [...],  # Right face\n    #[...], [...],  # Back face\n    #[...], [...],  # Left face\n    #[...], [...],  # Top face\n    #[...], [...],  # Bottom face\n], dtype=np.uint16)\n\ngeometry = BufferGeometry(\n    attributes={\n        'position': BufferAttribute(vertices, normalized=False),\n        'index': BufferAttribute(faces.flatten(), normalized=False)\n    }\n)\n# Important step: compute normals!\ngeometry.exec_three_obj_method('computeVertexNormals')\n\nmaterial = MeshStandardMaterial(color='orange', roughness=0.4, metalness=0.1, wireframe=False)\nmesh = Mesh(geometry, material)\n\n# Set up scene, camera, and renderer\nscene = Scene(children=[mesh, AmbientLight(color='white', intensity=0.3)])\nscene.add(PointLight(color='white', position=[3, 4, 5], intensity=2))\ncamera = PerspectiveCamera(position=[3, 3, 3], up=[0, 0, 1])\n\ncontroller = OrbitControls(controlling=camera)\nrenderer = Renderer(camera=camera, scene=scene, controls=[controller],\n                    width=600, height=400)\n\ndisplay(renderer)\n",
      "metadata": {
        "trusted": true,
        "scrolled": true
      },
      "outputs": [],
      "execution_count": null
    },
    {
      "id": "4b8bed92-bdcc-4d82-b194-25822edc6ace",
      "cell_type": "code",
      "source": "def flat_shaded_geometry(vertices, faces):\n    # For flat shading, each face has unique vertices\n    new_vertices = []\n    new_normals = []\n\n    for face in faces:\n        v0, v1, v2 = vertices[face[0]], vertices[face[1]], vertices[face[2]]\n\n        # Compute face normal\n        normal = np.cross(v1 - v0, v2 - v0)\n        normal /= np.linalg.norm(normal)\n\n        # Duplicate vertices and assign face normal to each\n        new_vertices.extend([v0, v1, v2])\n        new_normals.extend([normal, normal, normal])\n\n    geometry = BufferGeometry(\n        attributes={\n            'position': BufferAttribute(np.array(new_vertices, dtype='float32')),\n            'normal': BufferAttribute(np.array(new_normals, dtype='float32')),\n        }\n    )\n    return geometry",
      "metadata": {
        "trusted": true
      },
      "outputs": [],
      "execution_count": null
    },
    {
      "id": "6949d187-9dba-400a-8e3b-e4b8526852c1",
      "cell_type": "code",
      "source": "\n# Create flat shaded geometry\ngeometry = flat_shaded_geometry(vertices, faces)\nmesh = Mesh(geometry, material)\n\nscene = Scene(children=[mesh, AmbientLight(color='white', intensity=0.3)])\nscene.add(PointLight(color='white', position=[3, 4, 5], intensity=2))\nrenderer = Renderer(camera=camera, scene=scene, controls=[controller],\n                    width=600, height=400)\n\ndisplay(renderer)",
      "metadata": {
        "trusted": true
      },
      "outputs": [],
      "execution_count": null
    }
  ]
}