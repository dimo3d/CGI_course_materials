{
  "metadata": {
    "language_info": {
      "codemirror_mode": {
        "name": "python",
        "version": 3
      },
      "file_extension": ".py",
      "mimetype": "text/x-python",
      "name": "python",
      "nbconvert_exporter": "python",
      "pygments_lexer": "ipython3",
      "version": "3.8"
    },
    "kernelspec": {
      "name": "python",
      "display_name": "Python (Pyodide)",
      "language": "python"
    }
  },
  "nbformat_minor": 4,
  "nbformat": 4,
  "cells": [
    {
      "cell_type": "markdown",
      "source": "### Einführung\n\nWillkommen zu diesem Jupyter-Notebook über Raytracing! Raytracing ist eine Technik in der Computergrafik, um dreidimensionale Szenen durch das Verfolgen von Strahlen (Rays) von einer Lichtquelle zu einem Objekt und dann zu einem Betrachter (Kamera) zu visualisieren. In dieser Einführung wird die Grundlage des Raytracings veranschaulicht, indem eine einfache Szene mit einer einzelnen Kugel (Sphere) gerendert wird.\n\nMit dem gegebenen Code haben wir einen einfachen Raytracer erstellt, der eine rote Kugel auf schwarzem Hintergrund rendert. Das Hauptprinzip hierbei ist die Ray-Sphere-Intersektion: Wenn ein Strahl die Kugel schneidet, wird der Pixel mit der Farbe der Kugel gefärbt; andernfalls bleibt er schwarz.\n\n---\n\n### Aufgaben\n\n1. **Anpassungen**: Ändern Sie die Position, die Größe und die Farbe der Kugel im Code und beobachten Sie, wie sich das gerenderte Bild ändert.\n  \n2. **Mehrere Kugeln**: Erweitern Sie den Raytracer, um mehrere Kugeln zu rendern. Stellen Sie sicher, dass die Kugeln korrekt übereinander gerendert werden, basierend auf ihrer Position und Größe.\n\n3. **Licht und Schatten**: Führen Sie eine einfache Lichtquelle in die Szene ein und implementieren Sie grundlegende Schattenwurf-Logik. Wenn ein Strahl von der Kamera zu einer Kugel und dann zur Lichtquelle geht und dabei eine andere Kugel schneidet, sollte der ursprüngliche Punkt im Schatten liegen.\n\n4. **Reflexion**: Erweitern Sie den Raytracer, um einfache Reflexionen zu unterstützen. Wenn ein Strahl auf eine Kugel trifft, sollte er in einem bestimmten Winkel reflektiert werden, und der Raytracer sollte diesen reflektierten Strahl verfolgen, um zu bestimmen, welche Farbe an diesem Punkt gerendert werden soll.\n",
      "metadata": {}
    },
    {
      "cell_type": "code",
      "source": "import micropip\nawait micropip.install(\"ipywidgets\")\nimport math\nimport numpy as np\nimport matplotlib.pyplot as plt\n\nclass Vec3:\n    def __init__(self, x, y, z):\n        self.x = x\n        self.y = y\n        self.z = z\n\n    def __add__(self, other):\n        return Vec3(self.x + other.x, self.y + other.y, self.z + other.z)\n\n    def __sub__(self, other):\n        return Vec3(self.x - other.x, self.y - other.y, self.z - other.z)\n\n    def dot(self, other):\n        return self.x * other.x + self.y * other.y + self.z * other.z\n\n    def magnitude(self):\n        return math.sqrt(self.dot(self))\n\n    def normalize(self):\n        mag = self.magnitude()\n        return Vec3(self.x / mag, self.y / mag, self.z / mag)\n\n    def scale(self, scalar):\n        return Vec3(self.x * scalar, self.y * scalar, self.z * scalar)\n\nclass Ray:\n    def __init__(self, origin, direction):\n        self.origin = origin\n        self.direction = direction\n\nclass Sphere:\n    def __init__(self, center, radius, color):\n        self.center = center\n        self.radius = radius\n        self.color = color\n\n    def hit(self, ray):\n        oc = ray.origin - self.center\n        a = ray.direction.dot(ray.direction)\n        b = 2.0 * oc.dot(ray.direction)\n        c = oc.dot(oc) - self.radius * self.radius\n        discriminant = b*b - 4*a*c\n\n        if discriminant > 0:\n            t1 = (-b - math.sqrt(discriminant)) / (2.0 * a)\n            t2 = (-b + math.sqrt(discriminant)) / (2.0 * a)\n            if t1 > 0:\n                return t1\n            if t2 > 0:\n                return t2\n        return None\n\nWIDTH, HEIGHT = 400, 300\n\ndef main():\n    sphere = Sphere(Vec3(1, 0, -5), 1, (255, 0, 0))\n\n    # Create an empty image as a numpy array\n    image = np.zeros((HEIGHT, WIDTH, 3), dtype=np.uint8)\n    aspect_ratio = WIDTH / HEIGHT\n    for y in range(HEIGHT):\n        for x in range(WIDTH):\n            # Convert screen space to NDC (Normalized Device Coordinates)\n            ndc_x = (x - WIDTH / 2) / (WIDTH / 2) * aspect_ratio\n            ndc_y = -(y - HEIGHT / 2) / (HEIGHT / 2)\n\n            ray = Ray(Vec3(0, 0, 0), Vec3(ndc_x, ndc_y, -1).normalize())\n            t = sphere.hit(ray)\n            if t is not None:\n                image[y, x] = sphere.color\n\n    plt.imshow(image)\n    plt.axis('off')  # Turn off axis numbers and ticks\n    plt.show()\n\n# Call the main function directly to render and display the sphere\nmain()",
      "metadata": {
        "trusted": true
      },
      "execution_count": 7,
      "outputs": [
        {
          "output_type": "display_data",
          "data": {
            "text/plain": "<Figure size 640x480 with 1 Axes>",
            "image/png": "[encoded data removed]"
          },
          "metadata": {}
        }
      ]
    },
    {
      "cell_type": "code",
      "source": "",
      "metadata": {},
      "execution_count": null,
      "outputs": []
    },
    {
      "cell_type": "code",
      "source": "",
      "metadata": {},
      "execution_count": null,
      "outputs": []
    }
  ]
}